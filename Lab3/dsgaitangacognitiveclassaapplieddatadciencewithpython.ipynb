{
  "nbformat": 4,
  "nbformat_minor": 0,
  "metadata": {
    "colab": {
      "name": "zvelasquezbcognitiveclassaapplieddatadciencewithpython.ipynb",
      "provenance": [],
      "collapsed_sections": []
    },
    "kernelspec": {
      "name": "python3",
      "display_name": "Python 3"
    },
    "language_info": {
      "name": "python"
    }
  },
  "cells": [
    {
      "cell_type": "markdown",
      "metadata": {
        "id": "K_0uYBBrSMB9"
      },
      "source": [
        "Linkedin:https://www.linkedin.com/in/daniel-santiago-gaitan-gaitan-0569b6208/"
      ]
    },
    {
      "cell_type": "markdown",
      "metadata": {
        "id": "wBije2R7SZsm"
      },
      "source": [
        "**Cognitive class**\n",
        "\n",
        "* Data Analysis with Python:https://courses.cognitiveclass.ai/certificates/b23f6853e9ee433e85eb2c5dfc82670b\n",
        "* Data Visualization with Python:https://courses.cognitiveclass.ai/certificates/8e043bc0c9184e29950eb6b2ec858522\n",
        "* Python 101 for Data Science:https://courses.cognitiveclass.ai/certificates/afcfe68e9a2c401e94a432cace5ebb5a\n"
      ]
    },
    {
      "cell_type": "code",
      "execution_count": null,
      "metadata": {},
      "outputs": [],
      "source": [
        "<img src=\"Linkedin.png\">"
      ]
    }
  ]
}
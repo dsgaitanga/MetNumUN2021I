{
  "nbformat": 4,
  "nbformat_minor": 0,
  "metadata": {
    "kernelspec": {
      "display_name": "Python 3",
      "language": "python",
      "name": "python3"
    },
    "language_info": {
      "codemirror_mode": {
        "name": "ipython",
        "version": 3
      },
      "file_extension": ".py",
      "mimetype": "text/x-python",
      "name": "python",
      "nbconvert_exporter": "python",
      "pygments_lexer": "ipython3",
      "version": "3.5.2"
    },
    "colab": {
      "name": "week_1_LU_pivoting.ipynb",
      "provenance": [],
      "collapsed_sections": []
    }
  },
  "cells": [
    {
      "cell_type": "markdown",
      "metadata": {
        "id": "l1V-_RZonp7p"
      },
      "source": [
        "# I. $LU$ factorization of a square matrix"
      ]
    },
    {
      "cell_type": "markdown",
      "metadata": {
        "id": "Wa0OKpclnp71"
      },
      "source": [
        "Consider a simple naive implementation of the LU decomposition. \n",
        "\n",
        "Note that we're using the `numpy` arrays to represent matrices [do **not** use `np.matrix`]."
      ]
    },
    {
      "cell_type": "code",
      "metadata": {
        "collapsed": true,
        "id": "5RLaNszZnp72"
      },
      "source": [
        "import numpy as np\n",
        "\n",
        "def diy_lu(a):\n",
        "    \"\"\"Construct the LU decomposition of the input matrix.\n",
        "    \n",
        "    Naive LU decomposition: work column by column, accumulate elementary triangular matrices.\n",
        "    No pivoting.\n",
        "    \"\"\"\n",
        "    N = a.shape[0]\n",
        "    \n",
        "    u = a.copy()\n",
        "    L = np.eye(N)\n",
        "    for j in range(N-1):\n",
        "        lam = np.eye(N)\n",
        "        gamma = u[j+1:, j] / u[j, j]\n",
        "        lam[j+1:, j] = -gamma\n",
        "        u = lam @ u\n",
        "\n",
        "        lam[j+1:, j] = gamma\n",
        "        L = L @ lam\n",
        "    return L, u"
      ],
      "execution_count": 1,
      "outputs": []
    },
    {
      "cell_type": "code",
      "metadata": {
        "colab": {
          "base_uri": "https://localhost:8080/"
        },
        "id": "nV10LCJ9np73",
        "outputId": "09e77446-5712-498b-bf54-e3913f84947a"
      },
      "source": [
        "# Now, generate a full rank matrix and test the naive implementation\n",
        "\n",
        "import numpy as np\n",
        "\n",
        "N = 6\n",
        "a = np.zeros((N, N), dtype=float)\n",
        "for i in range(N):\n",
        "    for j in range(N):\n",
        "        a[i, j] = 3. / (0.6*i*j + 1)\n",
        "\n",
        "np.linalg.matrix_rank(a)"
      ],
      "execution_count": 2,
      "outputs": [
        {
          "output_type": "execute_result",
          "data": {
            "text/plain": [
              "6"
            ]
          },
          "metadata": {
            "tags": []
          },
          "execution_count": 2
        }
      ]
    },
    {
      "cell_type": "code",
      "metadata": {
        "collapsed": true,
        "id": "LpwWAGLMnp75"
      },
      "source": [
        "# Tweak the printing of floating-point numbers, for clarity\n",
        "np.set_printoptions(precision=3)"
      ],
      "execution_count": 3,
      "outputs": []
    },
    {
      "cell_type": "code",
      "metadata": {
        "colab": {
          "base_uri": "https://localhost:8080/"
        },
        "id": "EA1IzR_Fnp75",
        "outputId": "7e3ff9b4-555a-449e-c920-ab0e481d831e"
      },
      "source": [
        "L, u = diy_lu(a)\n",
        "\n",
        "print(L, \"\\n\")\n",
        "print(u, \"\\n\")\n",
        "\n",
        "# Quick sanity check: L times U must equal the original matrix, up to floating-point errors.\n",
        "print(L@u - a)"
      ],
      "execution_count": 4,
      "outputs": [
        {
          "output_type": "stream",
          "text": [
            "[[1.    0.    0.    0.    0.    0.   ]\n",
            " [1.    1.    0.    0.    0.    0.   ]\n",
            " [1.    1.455 1.    0.    0.    0.   ]\n",
            " [1.    1.714 1.742 1.    0.    0.   ]\n",
            " [1.    1.882 2.276 2.039 1.    0.   ]\n",
            " [1.    2.    2.671 2.944 2.354 1.   ]] \n",
            "\n",
            "[[ 3.000e+00  3.000e+00  3.000e+00  3.000e+00  3.000e+00  3.000e+00]\n",
            " [ 0.000e+00 -1.125e+00 -1.636e+00 -1.929e+00 -2.118e+00 -2.250e+00]\n",
            " [ 0.000e+00  0.000e+00  2.625e-01  4.574e-01  5.975e-01  7.013e-01]\n",
            " [ 0.000e+00  2.220e-16  0.000e+00 -2.197e-02 -4.480e-02 -6.469e-02]\n",
            " [ 0.000e+00 -4.528e-16  0.000e+00  6.939e-18  8.080e-04  1.902e-03]\n",
            " [ 0.000e+00  4.123e-16  0.000e+00 -1.634e-17  0.000e+00 -1.585e-05]] \n",
            "\n",
            "[[ 0.000e+00  0.000e+00  0.000e+00  0.000e+00  0.000e+00  0.000e+00]\n",
            " [ 0.000e+00  0.000e+00  0.000e+00  0.000e+00  0.000e+00  0.000e+00]\n",
            " [ 0.000e+00  0.000e+00 -1.110e-16  1.110e-16  1.110e-16 -5.551e-17]\n",
            " [ 0.000e+00  0.000e+00  3.331e-16 -2.220e-16 -5.551e-17  0.000e+00]\n",
            " [ 0.000e+00  0.000e+00  0.000e+00 -1.110e-16 -1.665e-16  0.000e+00]\n",
            " [ 0.000e+00  0.000e+00 -1.110e-16 -2.776e-16  1.110e-16  1.110e-16]]\n"
          ],
          "name": "stdout"
        }
      ]
    },
    {
      "cell_type": "markdown",
      "metadata": {
        "id": "A06BFPw9np76"
      },
      "source": [
        "# II. The need for pivoting"
      ]
    },
    {
      "cell_type": "markdown",
      "metadata": {
        "id": "7O4HagYfnp77"
      },
      "source": [
        "Let's tweak the matrix a little bit, we only change a single element:"
      ]
    },
    {
      "cell_type": "code",
      "metadata": {
        "collapsed": true,
        "id": "VgrEvtwZnp78"
      },
      "source": [
        "a1 = a.copy()\n",
        "a1[1, 1] = 3"
      ],
      "execution_count": 5,
      "outputs": []
    },
    {
      "cell_type": "markdown",
      "metadata": {
        "id": "_COPZF2tnp78"
      },
      "source": [
        "Resulting matix still has full rank, but the naive LU routine breaks down."
      ]
    },
    {
      "cell_type": "code",
      "metadata": {
        "colab": {
          "base_uri": "https://localhost:8080/"
        },
        "id": "rJeXhz_3np79",
        "outputId": "54a04fc4-f421-4954-fc61-83b93430bf53"
      },
      "source": [
        "np.linalg.matrix_rank(a1)"
      ],
      "execution_count": 6,
      "outputs": [
        {
          "output_type": "execute_result",
          "data": {
            "text/plain": [
              "6"
            ]
          },
          "metadata": {
            "tags": []
          },
          "execution_count": 6
        }
      ]
    },
    {
      "cell_type": "code",
      "metadata": {
        "colab": {
          "base_uri": "https://localhost:8080/"
        },
        "id": "OcHcLlYtnp79",
        "outputId": "c5f5c5a1-f26a-40dd-cee5-6ede45cdf6ca"
      },
      "source": [
        "l, u = diy_lu(a1)\n",
        "\n",
        "print(l, u)"
      ],
      "execution_count": 7,
      "outputs": [
        {
          "output_type": "stream",
          "text": [
            "[[nan nan nan nan nan nan]\n",
            " [nan nan nan nan nan nan]\n",
            " [nan nan nan nan nan nan]\n",
            " [nan nan nan nan nan nan]\n",
            " [nan nan nan nan nan nan]\n",
            " [nan nan nan nan nan nan]] [[nan nan nan nan nan nan]\n",
            " [nan nan nan nan nan nan]\n",
            " [nan nan nan nan nan nan]\n",
            " [nan nan nan nan nan nan]\n",
            " [nan nan nan nan nan nan]\n",
            " [nan nan nan nan nan nan]]\n"
          ],
          "name": "stdout"
        },
        {
          "output_type": "stream",
          "text": [
            "/usr/local/lib/python3.7/dist-packages/ipykernel_launcher.py:15: RuntimeWarning: divide by zero encountered in true_divide\n",
            "  from ipykernel import kernelapp as app\n",
            "/usr/local/lib/python3.7/dist-packages/ipykernel_launcher.py:17: RuntimeWarning: invalid value encountered in matmul\n",
            "/usr/local/lib/python3.7/dist-packages/ipykernel_launcher.py:20: RuntimeWarning: invalid value encountered in matmul\n",
            "/usr/local/lib/python3.7/dist-packages/ipykernel_launcher.py:15: RuntimeWarning: invalid value encountered in true_divide\n",
            "  from ipykernel import kernelapp as app\n"
          ],
          "name": "stderr"
        }
      ]
    },
    {
      "cell_type": "markdown",
      "metadata": {
        "id": "g5pYUPSJnp7-"
      },
      "source": [
        "### Test II.1\n",
        "\n",
        "For a naive LU decomposition to work, all leading minors of a matrix should be non-zero. Check if this requirement is satisfied for the two matrices `a` and `a1`.\n",
        "\n",
        "(20% of the grade)"
      ]
    },
    {
      "cell_type": "code",
      "metadata": {
        "collapsed": true,
        "colab": {
          "base_uri": "https://localhost:8080/"
        },
        "id": "SvJkjfWZnp7-",
        "outputId": "155fb086-6418-437f-c292-ab7a6fc03633"
      },
      "source": [
        "def leading_minors_test(A):\n",
        "  \"\"\"\n",
        "  Function to check all leading Minors of a Matrix not equal to 0\n",
        "  \"\"\"\n",
        "  N = A.shape[0]\n",
        "  u = A.copy()\n",
        "  L = np.eye(N)\n",
        "  for j in range(N-1):\n",
        "      lam = np.eye(N)\n",
        "      if u[j, j] == 0.0:\n",
        "        return False\n",
        "      gamma = u[j+1:, j] / u[j, j]\n",
        "      lam[j+1:, j] = -gamma\n",
        "      u = lam @ u\n",
        "  return True\n",
        "\n",
        "leading_minors_test(a), leading_minors_test(a1)"
      ],
      "execution_count": 8,
      "outputs": [
        {
          "output_type": "execute_result",
          "data": {
            "text/plain": [
              "(True, False)"
            ]
          },
          "metadata": {
            "tags": []
          },
          "execution_count": 8
        }
      ]
    },
    {
      "cell_type": "markdown",
      "metadata": {
        "id": "Or7OsT_Dnp7-"
      },
      "source": [
        "### Test II.2\n",
        "\n",
        "1. Modify the `diy_lu` routine to implement column pivoting. Keep track of pivots, you can either construct a permutation matrix, or a swap array (your choice).\n",
        "\n",
        "(40% of the grade)\n",
        "\n",
        "2. Implement a function to reconstruct the original matrix from a decompositon. Test your routines on the matrices `a` and `a1`.\n",
        "\n",
        "(40% of the grade)"
      ]
    },
    {
      "cell_type": "markdown",
      "metadata": {
        "id": "Rq1jd7251zwg"
      },
      "source": [
        "# First Test"
      ]
    },
    {
      "cell_type": "code",
      "metadata": {
        "collapsed": true,
        "id": "cKff80WEnp7_"
      },
      "source": [
        "def diy_lu_column_pivot(a):\n",
        "  \"\"\"Construct the LU decomposition of the input matrix.\n",
        "\n",
        "  LU decomposition with pivot: work column by column, accumulate elementary triangular matrices L @ np.transpose(Pj) .\n",
        "  \"\"\"\n",
        "  N = a.shape[0]\n",
        "  u = a.copy()\n",
        "  L = np.eye(N)\n",
        "\n",
        "  P1 = np.eye(N) # Permutacion Inicial 1\n",
        "  P2 = np.eye(N) # Permutacion Inicial 2\n",
        "\n",
        "  for j in range(N-1):\n",
        "    lam = np.eye(N)\n",
        "    i = j\n",
        "    while (u[i, i] == 0.0 and i < N-1):\n",
        "      tmp = np.argmax(abs(u[i:,i])) + i\n",
        "      P2[i], P2[tmp] = P2[tmp], P2[i].copy()\n",
        "      u = P2 @ u\n",
        "      i += 1\n",
        "    gamma = u[j+1:, j] / u[j, j]\n",
        "    lam[j+1:, j] = -gamma\n",
        "    u = lam @ u\n",
        "\n",
        "    lam[j+1:, j] = gamma\n",
        "    L = L @ lam @ P1\n",
        "  return  L, u, P1"
      ],
      "execution_count": 9,
      "outputs": []
    },
    {
      "cell_type": "code",
      "metadata": {
        "colab": {
          "base_uri": "https://localhost:8080/"
        },
        "id": "yPkMRrEB1-PC",
        "outputId": "de0f0de4-a4e4-4577-e093-a8a7fb69d11f"
      },
      "source": [
        "N = 6\n",
        "a = np.zeros((N, N), dtype=float)\n",
        "for i in range(N):\n",
        "    for j in range(N):\n",
        "        a[i, j] = 3. / (0.6*i*j + 1)\n",
        "\n",
        "L, u, P = diy_lu_column_pivot(a)\n",
        "\n",
        "print(\"L\\n\",L, \"\\n\")\n",
        "print(\"u\\n\",u, \"\\n\")\n",
        "print(\"L@u\\n\", L@u, \"\\n\")\n",
        "print(\"a\\n\",a, \"\\n\")\n",
        "print(\"P\\n\", P, \"\\n\")\n",
        "print(\"a\\n\",a, \"\\n\")"
      ],
      "execution_count": 10,
      "outputs": [
        {
          "output_type": "stream",
          "text": [
            "L\n",
            " [[1.    0.    0.    0.    0.    0.   ]\n",
            " [1.    1.    0.    0.    0.    0.   ]\n",
            " [1.    1.455 1.    0.    0.    0.   ]\n",
            " [1.    1.714 1.742 1.    0.    0.   ]\n",
            " [1.    1.882 2.276 2.039 1.    0.   ]\n",
            " [1.    2.    2.671 2.944 2.354 1.   ]] \n",
            "\n",
            "u\n",
            " [[ 3.000e+00  3.000e+00  3.000e+00  3.000e+00  3.000e+00  3.000e+00]\n",
            " [ 0.000e+00 -1.125e+00 -1.636e+00 -1.929e+00 -2.118e+00 -2.250e+00]\n",
            " [ 0.000e+00  0.000e+00  2.625e-01  4.574e-01  5.975e-01  7.013e-01]\n",
            " [ 0.000e+00  2.220e-16  0.000e+00 -2.197e-02 -4.480e-02 -6.469e-02]\n",
            " [ 0.000e+00 -4.528e-16  0.000e+00  6.939e-18  8.080e-04  1.902e-03]\n",
            " [ 0.000e+00  4.123e-16  0.000e+00 -1.634e-17  0.000e+00 -1.585e-05]] \n",
            "\n",
            "L@u\n",
            " [[3.    3.    3.    3.    3.    3.   ]\n",
            " [3.    1.875 1.364 1.071 0.882 0.75 ]\n",
            " [3.    1.364 0.882 0.652 0.517 0.429]\n",
            " [3.    1.071 0.652 0.469 0.366 0.3  ]\n",
            " [3.    0.882 0.517 0.366 0.283 0.231]\n",
            " [3.    0.75  0.429 0.3   0.231 0.188]] \n",
            "\n",
            "a\n",
            " [[3.    3.    3.    3.    3.    3.   ]\n",
            " [3.    1.875 1.364 1.071 0.882 0.75 ]\n",
            " [3.    1.364 0.882 0.652 0.517 0.429]\n",
            " [3.    1.071 0.652 0.469 0.366 0.3  ]\n",
            " [3.    0.882 0.517 0.366 0.283 0.231]\n",
            " [3.    0.75  0.429 0.3   0.231 0.188]] \n",
            "\n",
            "P\n",
            " [[1. 0. 0. 0. 0. 0.]\n",
            " [0. 1. 0. 0. 0. 0.]\n",
            " [0. 0. 1. 0. 0. 0.]\n",
            " [0. 0. 0. 1. 0. 0.]\n",
            " [0. 0. 0. 0. 1. 0.]\n",
            " [0. 0. 0. 0. 0. 1.]] \n",
            "\n",
            "a\n",
            " [[3.    3.    3.    3.    3.    3.   ]\n",
            " [3.    1.875 1.364 1.071 0.882 0.75 ]\n",
            " [3.    1.364 0.882 0.652 0.517 0.429]\n",
            " [3.    1.071 0.652 0.469 0.366 0.3  ]\n",
            " [3.    0.882 0.517 0.366 0.283 0.231]\n",
            " [3.    0.75  0.429 0.3   0.231 0.188]] \n",
            "\n"
          ],
          "name": "stdout"
        }
      ]
    },
    {
      "cell_type": "code",
      "metadata": {
        "colab": {
          "base_uri": "https://localhost:8080/"
        },
        "id": "gHhPlotg1_3t",
        "outputId": "84be6c3c-841d-40a8-f619-7b9d734fe067"
      },
      "source": [
        "a1 = a.copy()\n",
        "a1[1, 1] = 3\n",
        "\n",
        "L, u , P = diy_lu_column_pivot(a1)\n",
        "\n",
        "print(\"L\\n\",L, \"\\n\")\n",
        "print(\"u\\n\",u, \"\\n\")\n",
        "print(\"L@u\\n\", L@u, \"\\n\")\n",
        "print(\"a\\n\",a, \"\\n\")\n",
        "print(\"P\\n\", P, \"\\n\")\n",
        "print(\"a\\n\",a, \"\\n\")"
      ],
      "execution_count": 11,
      "outputs": [
        {
          "output_type": "stream",
          "text": [
            "L\n",
            " [[1.000e+00 0.000e+00 0.000e+00 0.000e+00 0.000e+00 0.000e+00]\n",
            " [1.000e+00 1.000e+00 0.000e+00 0.000e+00 0.000e+00 0.000e+00]\n",
            " [1.000e+00 7.273e-01 1.000e+00 0.000e+00 0.000e+00 0.000e+00]\n",
            " [1.000e+00 8.571e-01 5.807e-01 1.000e+00 0.000e+00 0.000e+00]\n",
            " [1.000e+00 9.412e-01 2.529e-01 6.797e-01 1.000e+00 0.000e+00]\n",
            " [1.000e+00 0.000e+00 6.611e+00 9.937e+01 2.597e+03 1.000e+00]] \n",
            "\n",
            "u\n",
            " [[ 3.000e+00  3.000e+00  3.000e+00  3.000e+00  3.000e+00  3.000e+00]\n",
            " [ 0.000e+00 -2.250e+00 -2.571e+00 -2.700e+00 -2.769e+00 -2.812e+00]\n",
            " [ 0.000e+00  0.000e+00 -2.475e-01 -3.842e-01 -4.688e-01 -5.260e-01]\n",
            " [ 0.000e+00  2.220e-16  0.000e+00  6.152e-03  1.172e-02  1.617e-02]\n",
            " [ 0.000e+00 -1.509e-16  0.000e+00  0.000e+00 -7.044e-05 -1.585e-04]\n",
            " [ 0.000e+00  3.699e-13  0.000e+00  0.000e+00  0.000e+00  3.202e-02]] \n",
            "\n",
            "L@u\n",
            " [[3.    3.    3.    3.    3.    3.   ]\n",
            " [3.    0.75  0.429 0.3   0.231 0.188]\n",
            " [3.    1.364 0.882 0.652 0.517 0.429]\n",
            " [3.    1.071 0.652 0.469 0.366 0.3  ]\n",
            " [3.    0.882 0.517 0.366 0.283 0.231]\n",
            " [3.    3.    1.364 1.071 0.882 0.75 ]] \n",
            "\n",
            "a\n",
            " [[3.    3.    3.    3.    3.    3.   ]\n",
            " [3.    1.875 1.364 1.071 0.882 0.75 ]\n",
            " [3.    1.364 0.882 0.652 0.517 0.429]\n",
            " [3.    1.071 0.652 0.469 0.366 0.3  ]\n",
            " [3.    0.882 0.517 0.366 0.283 0.231]\n",
            " [3.    0.75  0.429 0.3   0.231 0.188]] \n",
            "\n",
            "P\n",
            " [[1. 0. 0. 0. 0. 0.]\n",
            " [0. 1. 0. 0. 0. 0.]\n",
            " [0. 0. 1. 0. 0. 0.]\n",
            " [0. 0. 0. 1. 0. 0.]\n",
            " [0. 0. 0. 0. 1. 0.]\n",
            " [0. 0. 0. 0. 0. 1.]] \n",
            "\n",
            "a\n",
            " [[3.    3.    3.    3.    3.    3.   ]\n",
            " [3.    1.875 1.364 1.071 0.882 0.75 ]\n",
            " [3.    1.364 0.882 0.652 0.517 0.429]\n",
            " [3.    1.071 0.652 0.469 0.366 0.3  ]\n",
            " [3.    0.882 0.517 0.366 0.283 0.231]\n",
            " [3.    0.75  0.429 0.3   0.231 0.188]] \n",
            "\n"
          ],
          "name": "stdout"
        }
      ]
    },
    {
      "cell_type": "code",
      "metadata": {
        "colab": {
          "base_uri": "https://localhost:8080/"
        },
        "id": "V4BfyIbQ2BA6",
        "outputId": "6dc6f154-bac8-4e6f-9442-cbde8ab059c6"
      },
      "source": [
        "a2 = np.array([[4,3,1], [5,7,0], [9,9,3], [8,2,4]])\n",
        "\n",
        "L, u, P = diy_lu_column_pivot(a2)\n",
        "\n",
        "print(\"L\\n\",L, \"\\n\")\n",
        "print(\"u\\n\",u, \"\\n\")\n",
        "print(\"L@u\\n\", L@u, \"\\n\")\n",
        "print(\"a\\n\",a, \"\\n\")\n",
        "print(\"P\\n\", P, \"\\n\")\n",
        "print(\"P@L@u\\n\", P@L@u, \"\\n\")\n",
        "print(\"a\\n\",a, \"\\n\")"
      ],
      "execution_count": 12,
      "outputs": [
        {
          "output_type": "stream",
          "text": [
            "L\n",
            " [[ 1.     0.     0.     0.   ]\n",
            " [ 1.25   1.     0.     0.   ]\n",
            " [ 2.25   0.692  1.     0.   ]\n",
            " [ 2.    -1.231  0.286  1.   ]] \n",
            "\n",
            "u\n",
            " [[ 4.     3.     1.   ]\n",
            " [ 0.     3.25  -1.25 ]\n",
            " [ 0.     0.     1.615]\n",
            " [ 0.     0.     0.   ]] \n",
            "\n",
            "L@u\n",
            " [[4. 3. 1.]\n",
            " [5. 7. 0.]\n",
            " [9. 9. 3.]\n",
            " [8. 2. 4.]] \n",
            "\n",
            "a\n",
            " [[3.    3.    3.    3.    3.    3.   ]\n",
            " [3.    1.875 1.364 1.071 0.882 0.75 ]\n",
            " [3.    1.364 0.882 0.652 0.517 0.429]\n",
            " [3.    1.071 0.652 0.469 0.366 0.3  ]\n",
            " [3.    0.882 0.517 0.366 0.283 0.231]\n",
            " [3.    0.75  0.429 0.3   0.231 0.188]] \n",
            "\n",
            "P\n",
            " [[1. 0. 0. 0.]\n",
            " [0. 1. 0. 0.]\n",
            " [0. 0. 1. 0.]\n",
            " [0. 0. 0. 1.]] \n",
            "\n",
            "P@L@u\n",
            " [[4. 3. 1.]\n",
            " [5. 7. 0.]\n",
            " [9. 9. 3.]\n",
            " [8. 2. 4.]] \n",
            "\n",
            "a\n",
            " [[3.    3.    3.    3.    3.    3.   ]\n",
            " [3.    1.875 1.364 1.071 0.882 0.75 ]\n",
            " [3.    1.364 0.882 0.652 0.517 0.429]\n",
            " [3.    1.071 0.652 0.469 0.366 0.3  ]\n",
            " [3.    0.882 0.517 0.366 0.283 0.231]\n",
            " [3.    0.75  0.429 0.3   0.231 0.188]] \n",
            "\n"
          ],
          "name": "stdout"
        }
      ]
    },
    {
      "cell_type": "markdown",
      "metadata": {
        "id": "Up8_cIXD16TI"
      },
      "source": [
        "# Test Two"
      ]
    },
    {
      "cell_type": "code",
      "metadata": {
        "id": "9dSLpAfv1toW"
      },
      "source": [
        "def diy_lu_column_pivot_reconstruct(a):\n",
        "    \"\"\"Construct the LU decomposition of the input matrix.\n",
        "    \n",
        "    LU decomposition with pivot: work column by column, accumulate elementary triangular matrices L @ np.transpose(Pj) .\n",
        "    \"\"\"\n",
        "    N = a.shape[0]\n",
        "    u = a.copy()\n",
        "    L = np.eye(N)\n",
        "    perm = np.eye(N)\n",
        "    for j in range(0, N-1):\n",
        "        i = np.argmax(np.abs(u[j:, j])) + j\n",
        "        u[[j, i]] = u[[i, j]]\n",
        "        L1 = np.eye(N)\n",
        "        gamma = u[j+1:, j] / u[j, j]\n",
        "        L1[j+1:, j] = -gamma\n",
        "        u = L1 @ u\n",
        "        L1[j+1:, j] = gamma\n",
        "        L = L @ L1\n",
        "        P1 = np.eye(N)\n",
        "        P1[[j, i]] = P1[[i, j]]\n",
        "        perm = perm @ np.transpose(P1)\n",
        "    return L, u"
      ],
      "execution_count": 13,
      "outputs": []
    },
    {
      "cell_type": "code",
      "metadata": {
        "id": "w7eHIJ_e2DsD",
        "colab": {
          "base_uri": "https://localhost:8080/"
        },
        "outputId": "6f36ab71-8cb2-4401-83b0-037a9f8cb982"
      },
      "source": [
        "N = 6\n",
        "a = np.zeros((N, N), dtype=float)\n",
        "for i in range(N):\n",
        "    for j in range(N):\n",
        "        a[i, j] = 3. / (0.6*i*j + 1)\n",
        "\n",
        "L, u = diy_lu_column_pivot_reconstruct(a)\n",
        "\n",
        "print(\"L\\n\",L, \"\\n\")\n",
        "print(\"u\\n\",u, \"\\n\")\n",
        "print(\"L@u\\n\", L@u, \"\\n\")\n",
        "print(\"a\\n\",a, \"\\n\")"
      ],
      "execution_count": 14,
      "outputs": [
        {
          "output_type": "stream",
          "text": [
            "L\n",
            " [[1.    0.    0.    0.    0.    0.   ]\n",
            " [1.    1.    0.    0.    0.    0.   ]\n",
            " [1.    0.727 1.    0.    0.    0.   ]\n",
            " [1.    0.857 0.41  1.    0.    0.   ]\n",
            " [1.    0.941 0.178 0.426 1.    0.   ]\n",
            " [1.    0.5   0.706 0.835 0.789 1.   ]] \n",
            "\n",
            "u\n",
            " [[ 3.000e+00  3.000e+00  3.000e+00  3.000e+00  3.000e+00  3.000e+00]\n",
            " [ 0.000e+00 -2.250e+00 -2.571e+00 -2.700e+00 -2.769e+00 -2.812e+00]\n",
            " [ 0.000e+00  0.000e+00 -3.506e-01 -5.786e-01 -7.330e-01 -8.438e-01]\n",
            " [ 0.000e+00  0.000e+00  2.776e-17  2.421e-02  4.866e-02  6.961e-02]\n",
            " [ 0.000e+00  2.220e-16 -2.317e-17  0.000e+00 -6.462e-04 -1.516e-03]\n",
            " [ 0.000e+00 -1.751e-16  6.463e-18  0.000e+00  0.000e+00  6.730e-06]] \n",
            "\n",
            "L@u\n",
            " [[3.    3.    3.    3.    3.    3.   ]\n",
            " [3.    0.75  0.429 0.3   0.231 0.188]\n",
            " [3.    1.364 0.779 0.458 0.253 0.111]\n",
            " [3.    1.071 0.652 0.473 0.375 0.313]\n",
            " [3.    0.882 0.517 0.366 0.283 0.23 ]\n",
            " [3.    1.875 1.467 1.262 1.138 1.055]] \n",
            "\n",
            "a\n",
            " [[3.    3.    3.    3.    3.    3.   ]\n",
            " [3.    1.875 1.364 1.071 0.882 0.75 ]\n",
            " [3.    1.364 0.882 0.652 0.517 0.429]\n",
            " [3.    1.071 0.652 0.469 0.366 0.3  ]\n",
            " [3.    0.882 0.517 0.366 0.283 0.231]\n",
            " [3.    0.75  0.429 0.3   0.231 0.188]] \n",
            "\n"
          ],
          "name": "stdout"
        }
      ]
    },
    {
      "cell_type": "code",
      "metadata": {
        "id": "4AZBw8k82E3t",
        "colab": {
          "base_uri": "https://localhost:8080/"
        },
        "outputId": "9a4f828e-9177-4a10-9860-e332cdc4342a"
      },
      "source": [
        "a1 = a.copy()\n",
        "a1[1, 1] = 3\n",
        "\n",
        "L, u, = diy_lu_column_pivot_reconstruct(a1)\n",
        "\n",
        "print(\"L\\n\",L, \"\\n\")\n",
        "print(\"u\\n\",u, \"\\n\")\n",
        "print(\"L@u\\n\", L@u, \"\\n\")\n",
        "print(\"a2\\n\",a1, \"\\n\")\n",
        "\n",
        "# Quick sanity check: L times U must equal the original matrix, up to floating-point errors.\n",
        "# print(\"L@u - a1\\n\",L@u - a1, \"\\n\")"
      ],
      "execution_count": 15,
      "outputs": [
        {
          "output_type": "stream",
          "text": [
            "L\n",
            " [[1.    0.    0.    0.    0.    0.   ]\n",
            " [1.    1.    0.    0.    0.    0.   ]\n",
            " [1.    0.727 1.    0.    0.    0.   ]\n",
            " [1.    0.857 0.088 1.    0.    0.   ]\n",
            " [1.    0.941 0.038 0.208 1.    0.   ]\n",
            " [1.    0.    0.151 0.514 0.641 1.   ]] \n",
            "\n",
            "u\n",
            " [[ 3.000e+00  3.000e+00  3.000e+00  3.000e+00  3.000e+00  3.000e+00]\n",
            " [ 0.000e+00 -2.250e+00 -2.571e+00 -2.700e+00 -2.769e+00 -2.812e+00]\n",
            " [ 0.000e+00  0.000e+00 -1.636e+00 -1.929e+00 -2.118e+00 -2.250e+00]\n",
            " [ 0.000e+00  0.000e+00  2.776e-17 -9.247e-02 -1.485e-01 -1.856e-01]\n",
            " [ 0.000e+00  2.220e-16 -1.427e-17  0.000e+00  1.841e-03  3.821e-03]\n",
            " [ 0.000e+00 -1.424e-16  3.391e-18  0.000e+00  0.000e+00 -1.233e-05]] \n",
            "\n",
            "L@u\n",
            " [[ 3.     3.     3.     3.     3.     3.   ]\n",
            " [ 3.     0.75   0.429  0.3    0.231  0.188]\n",
            " [ 3.     1.364 -0.506 -0.892 -1.132 -1.295]\n",
            " [ 3.     1.071  0.652  0.424  0.292  0.206]\n",
            " [ 3.     0.882  0.517  0.366  0.284  0.232]\n",
            " [ 3.     3.     2.752  2.661  2.605  2.567]] \n",
            "\n",
            "a2\n",
            " [[3.    3.    3.    3.    3.    3.   ]\n",
            " [3.    3.    1.364 1.071 0.882 0.75 ]\n",
            " [3.    1.364 0.882 0.652 0.517 0.429]\n",
            " [3.    1.071 0.652 0.469 0.366 0.3  ]\n",
            " [3.    0.882 0.517 0.366 0.283 0.231]\n",
            " [3.    0.75  0.429 0.3   0.231 0.188]] \n",
            "\n"
          ],
          "name": "stdout"
        }
      ]
    },
    {
      "cell_type": "code",
      "metadata": {
        "id": "dKTVM5lv2GOw",
        "colab": {
          "base_uri": "https://localhost:8080/"
        },
        "outputId": "f4563a8a-cb86-45f9-b223-6b37e501a6db"
      },
      "source": [
        "a2 = np.array([[4,3,1], [5,7,0], [9,9,3], [8,2,4]])\n",
        "\n",
        "L, u, = diy_lu_column_pivot_reconstruct(a2)\n",
        "\n",
        "print(\"L\\n\",L, \"\\n\")\n",
        "print(\"u\\n\",u, \"\\n\")\n",
        "print(\"L@u\\n\", L@u, \"\\n\")\n",
        "print(\"a2\\n\",a2, \"\\n\")\n",
        "\n",
        "# Quick sanity check: L times U must equal the original matrix, up to floating-point errors.\n",
        "print(\"L@u - a2\\n\",L@u - a2, \"\\n\")"
      ],
      "execution_count": 16,
      "outputs": [
        {
          "output_type": "stream",
          "text": [
            "L\n",
            " [[ 1.     0.     0.     0.   ]\n",
            " [ 0.556  1.     0.     0.   ]\n",
            " [ 0.444  0.167  1.     0.   ]\n",
            " [ 0.889 -0.333  0.455  1.   ]] \n",
            "\n",
            "u\n",
            " [[ 9.     9.     3.   ]\n",
            " [ 0.    -6.     1.333]\n",
            " [ 0.     0.    -1.222]\n",
            " [ 0.     0.     0.   ]] \n",
            "\n",
            "L@u\n",
            " [[ 9.     9.     3.   ]\n",
            " [ 5.    -1.     3.   ]\n",
            " [ 4.     3.     0.333]\n",
            " [ 8.    10.     1.667]] \n",
            "\n",
            "a2\n",
            " [[4 3 1]\n",
            " [5 7 0]\n",
            " [9 9 3]\n",
            " [8 2 4]] \n",
            "\n",
            "L@u - a2\n",
            " [[ 5.     6.     2.   ]\n",
            " [ 0.    -8.     3.   ]\n",
            " [-5.    -6.    -2.667]\n",
            " [ 0.     8.    -2.333]] \n",
            "\n"
          ],
          "name": "stdout"
        }
      ]
    }
  ]
}